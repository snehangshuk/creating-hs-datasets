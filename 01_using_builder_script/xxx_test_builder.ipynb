{
 "cells": [
  {
   "cell_type": "code",
   "execution_count": 26,
   "metadata": {},
   "outputs": [
    {
     "name": "stderr",
     "output_type": "stream",
     "text": [
      "Downloading builder script: 100%|██████████| 2.18k/2.18k [00:00<00:00, 7.34MB/s]\n",
      "Downloading data: 100%|██████████| 447k/447k [00:00<00:00, 1.73MB/s]\n",
      "Generating train split: 9083 examples [00:00, 32993.32 examples/s]\n"
     ]
    },
    {
     "data": {
      "text/plain": [
       "Dataset({\n",
       "    features: ['city', 'country', 'region', 'continent', 'latitude', 'longitude', 'x', 'y', 'z'],\n",
       "    num_rows: 9083\n",
       "})"
      ]
     },
     "execution_count": 26,
     "metadata": {},
     "output_type": "execute_result"
    }
   ],
   "source": [
    "from datasets import load_dataset\n",
    "\n",
    "data = load_dataset(\"snehangshuk/test-dataset-targz\", split=\"train\")\n",
    "data"
   ]
  },
  {
   "cell_type": "code",
   "execution_count": 27,
   "metadata": {},
   "outputs": [
    {
     "data": {
      "text/plain": [
       "{'city': ['Kabul', 'Kandahar', 'Mazar-e Sharif'],\n",
       " 'country': ['Afghanistan', 'Afghanistan', 'Afghanistan'],\n",
       " 'region': ['Southern Asia', 'Southern Asia', 'Southern Asia'],\n",
       " 'continent': ['Asia', 'Asia', 'Asia'],\n",
       " 'latitude': [34.5166667, 31.61, 36.7069444],\n",
       " 'longitude': [69.1833344, 65.6999969, 67.1122208],\n",
       " 'x': [1865.546409629258, 2232.782351694877, 1986.5057687360124],\n",
       " 'y': [4906.785732164055, 4945.064042683584, 4705.51748048584],\n",
       " 'z': [3610.1012966606136, 3339.261233224765, 3808.088900172991]}"
      ]
     },
     "execution_count": 27,
     "metadata": {},
     "output_type": "execute_result"
    }
   ],
   "source": [
    "data[:3]"
   ]
  },
  {
   "cell_type": "markdown",
   "metadata": {},
   "source": [
    "# Testing only to check the filepath\n",
    "---"
   ]
  },
  {
   "cell_type": "code",
   "execution_count": 21,
   "metadata": {},
   "outputs": [
    {
     "name": "stderr",
     "output_type": "stream",
     "text": [
      "Downloading data: 100%|██████████| 447k/447k [00:00<00:00, 1.84MB/s]\n"
     ]
    }
   ],
   "source": [
    "from datasets import DownloadManager\n",
    "\n",
    "_URL = \"https://github.com/snehangshuk/creating-hs-datasets/raw/main/00_get_started/dataset.tar.gz\"\n",
    "urls_to_download = _URL\n",
    "filepath = dl_manager.download_and_extract(urls_to_download)"
   ]
  },
  {
   "cell_type": "code",
   "execution_count": 22,
   "metadata": {},
   "outputs": [
    {
     "data": {
      "text/plain": [
       "'/Users/snkarmak/.cache/huggingface/datasets/downloads/extracted/f04d5f0ff90239269ab2034f4aba12a66ed67c204ff914833a3c76350a614655'"
      ]
     },
     "execution_count": 22,
     "metadata": {},
     "output_type": "execute_result"
    }
   ],
   "source": [
    "filepath"
   ]
  },
  {
   "cell_type": "code",
   "execution_count": 24,
   "metadata": {},
   "outputs": [
    {
     "data": {
      "text/plain": [
       "['dataset.jsonl']"
      ]
     },
     "execution_count": 24,
     "metadata": {},
     "output_type": "execute_result"
    }
   ],
   "source": [
    "import os\n",
    "\n",
    "os.listdir(filepath)"
   ]
  },
  {
   "cell_type": "code",
   "execution_count": 25,
   "metadata": {},
   "outputs": [
    {
     "name": "stdout",
     "output_type": "stream",
     "text": [
      "{'city': 'Kabul', 'country': 'Afghanistan', 'region': 'Southern Asia', 'continent': 'Asia', 'latitude': 34.5166667, 'longitude': 69.1833344, 'x': 1865.546409629258, 'y': 4906.785732164055, 'z': 3610.1012966606136}\n",
      "{'city': 'Kandahar', 'country': 'Afghanistan', 'region': 'Southern Asia', 'continent': 'Asia', 'latitude': 31.61, 'longitude': 65.6999969, 'x': 2232.782351694877, 'y': 4945.064042683584, 'z': 3339.261233224765}\n",
      "{'city': 'Mazar-e Sharif', 'country': 'Afghanistan', 'region': 'Southern Asia', 'continent': 'Asia', 'latitude': 36.7069444, 'longitude': 67.1122208, 'x': 1986.5057687360124, 'y': 4705.51748048584, 'z': 3808.088900172991}\n",
      "{'city': 'Herat', 'country': 'Afghanistan', 'region': 'Southern Asia', 'continent': 'Asia', 'latitude': 34.34, 'longitude': 62.1899986, 'x': 2454.269251553447, 'y': 4652.966937800938, 'z': 3593.897900137211}\n"
     ]
    }
   ],
   "source": [
    "import json\n",
    "idx = 0\n",
    "# open json file and read line by line\n",
    "with open(filepath+\"/dataset.jsonl\", encoding=\"utf-8\") as fp:\n",
    "    for line in fp:\n",
    "        print(json.loads(line))\n",
    "        idx += 1\n",
    "        if idx > 3:\n",
    "            break "
   ]
  }
 ],
 "metadata": {
  "kernelspec": {
   "display_name": "Python 3",
   "language": "python",
   "name": "python3"
  },
  "language_info": {
   "codemirror_mode": {
    "name": "ipython",
    "version": 3
   },
   "file_extension": ".py",
   "mimetype": "text/x-python",
   "name": "python",
   "nbconvert_exporter": "python",
   "pygments_lexer": "ipython3",
   "version": "3.9.6"
  },
  "orig_nbformat": 4
 },
 "nbformat": 4,
 "nbformat_minor": 2
}
