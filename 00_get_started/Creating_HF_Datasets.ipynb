{
  "cells": [
    {
      "cell_type": "code",
      "execution_count": 2,
      "metadata": {
        "colab": {
          "base_uri": "https://localhost:8080/"
        },
        "id": "krqcI9ZWLL9c",
        "outputId": "e9813add-8572-42b1-a08e-a5beba8f989c"
      },
      "outputs": [
        {
          "name": "stdout",
          "output_type": "stream",
          "text": [
            "Defaulting to user installation because normal site-packages is not writeable\n",
            "Requirement already satisfied: datasets in /Users/snkarmak/Library/Python/3.9/lib/python/site-packages (2.14.3)\n",
            "Requirement already satisfied: pyarrow>=8.0.0 in /Users/snkarmak/Library/Python/3.9/lib/python/site-packages (from datasets) (12.0.1)\n",
            "Requirement already satisfied: packaging in /Users/snkarmak/Library/Python/3.9/lib/python/site-packages (from datasets) (23.0)\n",
            "Requirement already satisfied: pyyaml>=5.1 in /Users/snkarmak/Library/Python/3.9/lib/python/site-packages (from datasets) (6.0.1)\n",
            "Requirement already satisfied: xxhash in /Users/snkarmak/Library/Python/3.9/lib/python/site-packages (from datasets) (3.3.0)\n",
            "Requirement already satisfied: pandas in /Users/snkarmak/Library/Python/3.9/lib/python/site-packages (from datasets) (2.0.3)\n",
            "Requirement already satisfied: tqdm>=4.62.1 in /Users/snkarmak/Library/Python/3.9/lib/python/site-packages (from datasets) (4.65.0)\n",
            "Requirement already satisfied: dill<0.3.8,>=0.3.0 in /Users/snkarmak/Library/Python/3.9/lib/python/site-packages (from datasets) (0.3.7)\n",
            "Requirement already satisfied: huggingface-hub<1.0.0,>=0.14.0 in /Users/snkarmak/Library/Python/3.9/lib/python/site-packages (from datasets) (0.16.4)\n",
            "Requirement already satisfied: aiohttp in /Users/snkarmak/Library/Python/3.9/lib/python/site-packages (from datasets) (3.8.5)\n",
            "Requirement already satisfied: numpy>=1.17 in /Users/snkarmak/Library/Python/3.9/lib/python/site-packages (from datasets) (1.25.2)\n",
            "Requirement already satisfied: fsspec[http]>=2021.11.1 in /Users/snkarmak/Library/Python/3.9/lib/python/site-packages (from datasets) (2023.6.0)\n",
            "Requirement already satisfied: requests>=2.19.0 in /Users/snkarmak/Library/Python/3.9/lib/python/site-packages (from datasets) (2.31.0)\n",
            "Requirement already satisfied: multiprocess in /Users/snkarmak/Library/Python/3.9/lib/python/site-packages (from datasets) (0.70.15)\n",
            "Requirement already satisfied: async-timeout<5.0,>=4.0.0a3 in /Users/snkarmak/Library/Python/3.9/lib/python/site-packages (from aiohttp->datasets) (4.0.2)\n",
            "Requirement already satisfied: attrs>=17.3.0 in /Users/snkarmak/Library/Python/3.9/lib/python/site-packages (from aiohttp->datasets) (23.1.0)\n",
            "Requirement already satisfied: yarl<2.0,>=1.0 in /Users/snkarmak/Library/Python/3.9/lib/python/site-packages (from aiohttp->datasets) (1.9.2)\n",
            "Requirement already satisfied: aiosignal>=1.1.2 in /Users/snkarmak/Library/Python/3.9/lib/python/site-packages (from aiohttp->datasets) (1.3.1)\n",
            "Requirement already satisfied: frozenlist>=1.1.1 in /Users/snkarmak/Library/Python/3.9/lib/python/site-packages (from aiohttp->datasets) (1.4.0)\n",
            "Requirement already satisfied: charset-normalizer<4.0,>=2.0 in /Users/snkarmak/Library/Python/3.9/lib/python/site-packages (from aiohttp->datasets) (3.2.0)\n",
            "Requirement already satisfied: multidict<7.0,>=4.5 in /Users/snkarmak/Library/Python/3.9/lib/python/site-packages (from aiohttp->datasets) (6.0.4)\n",
            "Requirement already satisfied: typing-extensions>=3.7.4.3 in /Users/snkarmak/Library/Python/3.9/lib/python/site-packages (from huggingface-hub<1.0.0,>=0.14.0->datasets) (4.5.0)\n",
            "Requirement already satisfied: filelock in /Users/snkarmak/Library/Python/3.9/lib/python/site-packages (from huggingface-hub<1.0.0,>=0.14.0->datasets) (3.12.2)\n",
            "Requirement already satisfied: certifi>=2017.4.17 in /Users/snkarmak/Library/Python/3.9/lib/python/site-packages (from requests>=2.19.0->datasets) (2023.5.7)\n",
            "Requirement already satisfied: urllib3<3,>=1.21.1 in /Users/snkarmak/Library/Python/3.9/lib/python/site-packages (from requests>=2.19.0->datasets) (2.0.3)\n",
            "Requirement already satisfied: idna<4,>=2.5 in /Users/snkarmak/Library/Python/3.9/lib/python/site-packages (from requests>=2.19.0->datasets) (3.4)\n",
            "Requirement already satisfied: python-dateutil>=2.8.2 in /Users/snkarmak/Library/Python/3.9/lib/python/site-packages (from pandas->datasets) (2.8.2)\n",
            "Requirement already satisfied: pytz>=2020.1 in /Users/snkarmak/Library/Python/3.9/lib/python/site-packages (from pandas->datasets) (2023.3)\n",
            "Requirement already satisfied: tzdata>=2022.1 in /Users/snkarmak/Library/Python/3.9/lib/python/site-packages (from pandas->datasets) (2023.3)\n",
            "Requirement already satisfied: six>=1.5 in /Library/Developer/CommandLineTools/Library/Frameworks/Python3.framework/Versions/3.9/lib/python3.9/site-packages (from python-dateutil>=2.8.2->pandas->datasets) (1.15.0)\n",
            "\u001b[33mWARNING: You are using pip version 21.2.4; however, version 23.2.1 is available.\n",
            "You should consider upgrading via the '/Library/Developer/CommandLineTools/usr/bin/python3 -m pip install --upgrade pip' command.\u001b[0m\n",
            "Note: you may need to restart the kernel to use updated packages.\n"
          ]
        }
      ],
      "source": [
        "%pip install datasets"
      ]
    },
    {
      "cell_type": "code",
      "execution_count": 3,
      "metadata": {
        "colab": {
          "base_uri": "https://localhost:8080/"
        },
        "id": "__qgx_F2LeMk",
        "outputId": "c43ddff7-d0ce-4273-d633-3e3f0ed22e12"
      },
      "outputs": [
        {
          "name": "stderr",
          "output_type": "stream",
          "text": [
            "/Users/snkarmak/Library/Python/3.9/lib/python/site-packages/urllib3/__init__.py:34: NotOpenSSLWarning: urllib3 v2.0 only supports OpenSSL 1.1.1+, currently the 'ssl' module is compiled with 'LibreSSL 2.8.3'. See: https://github.com/urllib3/urllib3/issues/3020\n",
            "  warnings.warn(\n",
            "/Users/snkarmak/Library/Python/3.9/lib/python/site-packages/tqdm/auto.py:21: TqdmWarning: IProgress not found. Please update jupyter and ipywidgets. See https://ipywidgets.readthedocs.io/en/stable/user_install.html\n",
            "  from .autonotebook import tqdm as notebook_tqdm\n",
            "Repo card metadata block was not found. Setting CardData to empty.\n"
          ]
        },
        {
          "data": {
            "text/plain": [
              "Dataset({\n",
              "    features: ['city', 'country', 'region', 'continent', 'latitude', 'longitude', 'x', 'y', 'z'],\n",
              "    num_rows: 9083\n",
              "})"
            ]
          },
          "execution_count": 3,
          "metadata": {},
          "output_type": "execute_result"
        }
      ],
      "source": [
        "from datasets import load_dataset\n",
        "\n",
        "geodataset = load_dataset(\"jamescalam/world-cities-geo\", split='train')\n",
        "geodataset"
      ]
    },
    {
      "cell_type": "code",
      "execution_count": 4,
      "metadata": {
        "colab": {
          "base_uri": "https://localhost:8080/"
        },
        "id": "6P9McRjjL9DV",
        "outputId": "3745135d-bdc9-447d-ae3b-d9457202f7ce"
      },
      "outputs": [
        {
          "data": {
            "text/plain": [
              "Dataset({\n",
              "    features: ['city', 'country', 'region', 'continent', 'latitude', 'longitude', 'x', 'y', 'z'],\n",
              "    num_rows: 9083\n",
              "})"
            ]
          },
          "execution_count": 4,
          "metadata": {},
          "output_type": "execute_result"
        }
      ],
      "source": [
        "geodataset"
      ]
    },
    {
      "cell_type": "code",
      "execution_count": 5,
      "metadata": {
        "colab": {
          "base_uri": "https://localhost:8080/"
        },
        "id": "9_2bGHELMk2-",
        "outputId": "eedfdf67-ce29-418c-f1b6-3a5a0f3e9e4d"
      },
      "outputs": [
        {
          "data": {
            "text/plain": [
              "{'city': 'Kabul',\n",
              " 'country': 'Afghanistan',\n",
              " 'region': 'Southern Asia',\n",
              " 'continent': 'Asia',\n",
              " 'latitude': 34.5166667,\n",
              " 'longitude': 69.1833344,\n",
              " 'x': 1865.546409629258,\n",
              " 'y': 4906.785732164055,\n",
              " 'z': 3610.1012966606136}"
            ]
          },
          "execution_count": 5,
          "metadata": {},
          "output_type": "execute_result"
        }
      ],
      "source": [
        "geodataset[0]"
      ]
    },
    {
      "cell_type": "code",
      "execution_count": 6,
      "metadata": {
        "colab": {
          "base_uri": "https://localhost:8080/",
          "height": 206
        },
        "id": "9q4IhUV-MCAv",
        "outputId": "752314e0-e135-4b7b-bf85-ee15d4f7bd5b"
      },
      "outputs": [
        {
          "data": {
            "text/html": [
              "<div>\n",
              "<style scoped>\n",
              "    .dataframe tbody tr th:only-of-type {\n",
              "        vertical-align: middle;\n",
              "    }\n",
              "\n",
              "    .dataframe tbody tr th {\n",
              "        vertical-align: top;\n",
              "    }\n",
              "\n",
              "    .dataframe thead th {\n",
              "        text-align: right;\n",
              "    }\n",
              "</style>\n",
              "<table border=\"1\" class=\"dataframe\">\n",
              "  <thead>\n",
              "    <tr style=\"text-align: right;\">\n",
              "      <th></th>\n",
              "      <th>city</th>\n",
              "      <th>country</th>\n",
              "      <th>region</th>\n",
              "      <th>continent</th>\n",
              "      <th>latitude</th>\n",
              "      <th>longitude</th>\n",
              "      <th>x</th>\n",
              "      <th>y</th>\n",
              "      <th>z</th>\n",
              "    </tr>\n",
              "  </thead>\n",
              "  <tbody>\n",
              "    <tr>\n",
              "      <th>0</th>\n",
              "      <td>Kabul</td>\n",
              "      <td>Afghanistan</td>\n",
              "      <td>Southern Asia</td>\n",
              "      <td>Asia</td>\n",
              "      <td>34.516667</td>\n",
              "      <td>69.183334</td>\n",
              "      <td>1865.546410</td>\n",
              "      <td>4906.785732</td>\n",
              "      <td>3610.101297</td>\n",
              "    </tr>\n",
              "    <tr>\n",
              "      <th>1</th>\n",
              "      <td>Kandahar</td>\n",
              "      <td>Afghanistan</td>\n",
              "      <td>Southern Asia</td>\n",
              "      <td>Asia</td>\n",
              "      <td>31.610000</td>\n",
              "      <td>65.699997</td>\n",
              "      <td>2232.782352</td>\n",
              "      <td>4945.064043</td>\n",
              "      <td>3339.261233</td>\n",
              "    </tr>\n",
              "    <tr>\n",
              "      <th>2</th>\n",
              "      <td>Mazar-e Sharif</td>\n",
              "      <td>Afghanistan</td>\n",
              "      <td>Southern Asia</td>\n",
              "      <td>Asia</td>\n",
              "      <td>36.706944</td>\n",
              "      <td>67.112221</td>\n",
              "      <td>1986.505769</td>\n",
              "      <td>4705.517480</td>\n",
              "      <td>3808.088900</td>\n",
              "    </tr>\n",
              "    <tr>\n",
              "      <th>3</th>\n",
              "      <td>Herat</td>\n",
              "      <td>Afghanistan</td>\n",
              "      <td>Southern Asia</td>\n",
              "      <td>Asia</td>\n",
              "      <td>34.340000</td>\n",
              "      <td>62.189999</td>\n",
              "      <td>2454.269252</td>\n",
              "      <td>4652.966938</td>\n",
              "      <td>3593.897900</td>\n",
              "    </tr>\n",
              "    <tr>\n",
              "      <th>4</th>\n",
              "      <td>Jalalabad</td>\n",
              "      <td>Afghanistan</td>\n",
              "      <td>Southern Asia</td>\n",
              "      <td>Asia</td>\n",
              "      <td>34.420000</td>\n",
              "      <td>70.449997</td>\n",
              "      <td>1758.658611</td>\n",
              "      <td>4952.558405</td>\n",
              "      <td>3601.239528</td>\n",
              "    </tr>\n",
              "  </tbody>\n",
              "</table>\n",
              "</div>"
            ],
            "text/plain": [
              "             city      country         region continent   latitude  longitude  \\\n",
              "0           Kabul  Afghanistan  Southern Asia      Asia  34.516667  69.183334   \n",
              "1        Kandahar  Afghanistan  Southern Asia      Asia  31.610000  65.699997   \n",
              "2  Mazar-e Sharif  Afghanistan  Southern Asia      Asia  36.706944  67.112221   \n",
              "3           Herat  Afghanistan  Southern Asia      Asia  34.340000  62.189999   \n",
              "4       Jalalabad  Afghanistan  Southern Asia      Asia  34.420000  70.449997   \n",
              "\n",
              "             x            y            z  \n",
              "0  1865.546410  4906.785732  3610.101297  \n",
              "1  2232.782352  4945.064043  3339.261233  \n",
              "2  1986.505769  4705.517480  3808.088900  \n",
              "3  2454.269252  4652.966938  3593.897900  \n",
              "4  1758.658611  4952.558405  3601.239528  "
            ]
          },
          "execution_count": 6,
          "metadata": {},
          "output_type": "execute_result"
        }
      ],
      "source": [
        "geodataset = geodataset.to_pandas()\n",
        "geodataset.head()"
      ]
    },
    {
      "cell_type": "code",
      "execution_count": 7,
      "metadata": {
        "id": "p7XZVL5LMfo6"
      },
      "outputs": [],
      "source": [
        "geodataset = geodataset.to_dict(orient=\"records\")"
      ]
    },
    {
      "cell_type": "code",
      "execution_count": 8,
      "metadata": {
        "colab": {
          "base_uri": "https://localhost:8080/"
        },
        "id": "E5__1Y1fNECo",
        "outputId": "afd52db8-31e0-45d3-e783-d085a9659d65"
      },
      "outputs": [
        {
          "data": {
            "text/plain": [
              "[{'city': 'Kabul',\n",
              "  'country': 'Afghanistan',\n",
              "  'region': 'Southern Asia',\n",
              "  'continent': 'Asia',\n",
              "  'latitude': 34.5166667,\n",
              "  'longitude': 69.1833344,\n",
              "  'x': 1865.546409629258,\n",
              "  'y': 4906.785732164055,\n",
              "  'z': 3610.1012966606136},\n",
              " {'city': 'Kandahar',\n",
              "  'country': 'Afghanistan',\n",
              "  'region': 'Southern Asia',\n",
              "  'continent': 'Asia',\n",
              "  'latitude': 31.61,\n",
              "  'longitude': 65.6999969,\n",
              "  'x': 2232.782351694877,\n",
              "  'y': 4945.064042683584,\n",
              "  'z': 3339.261233224765},\n",
              " {'city': 'Mazar-e Sharif',\n",
              "  'country': 'Afghanistan',\n",
              "  'region': 'Southern Asia',\n",
              "  'continent': 'Asia',\n",
              "  'latitude': 36.7069444,\n",
              "  'longitude': 67.1122208,\n",
              "  'x': 1986.5057687360124,\n",
              "  'y': 4705.51748048584,\n",
              "  'z': 3808.088900172991}]"
            ]
          },
          "execution_count": 8,
          "metadata": {},
          "output_type": "execute_result"
        }
      ],
      "source": [
        "geodataset[:3]"
      ]
    },
    {
      "cell_type": "code",
      "execution_count": 10,
      "metadata": {
        "id": "zeHeA5jfNIno"
      },
      "outputs": [],
      "source": [
        "import json\n",
        "\n",
        "with open(\"dataset.jsonl\", \"w\") as f:\n",
        "  for line in geodataset:\n",
        "    f.write(json.dumps(line) + \"\\n\")"
      ]
    },
    {
      "cell_type": "markdown",
      "metadata": {},
      "source": [
        "Covert to tar.gz file which will be used using the dataset builder srcipt."
      ]
    },
    {
      "cell_type": "code",
      "execution_count": 11,
      "metadata": {},
      "outputs": [],
      "source": [
        "import tarfile\n",
        "\n",
        "with tarfile.open('dataset.tar.gz', 'w:gz') as tar:\n",
        "    tar.add('dataset.jsonl')"
      ]
    },
    {
      "cell_type": "markdown",
      "metadata": {
        "id": "Xn07AxHNZ8et"
      },
      "source": [
        "Upload the `dataset.jsonl` to HuggingFace using [Getting started with Respositireis](https://huggingface.co/docs/hub/repositories-getting-started)"
      ]
    },
    {
      "cell_type": "markdown",
      "metadata": {
        "id": "tZ24kSDjafYo"
      },
      "source": [
        "# Test the newly created Dataset from Hugging Face\n",
        "---"
      ]
    },
    {
      "cell_type": "code",
      "execution_count": 19,
      "metadata": {
        "id": "_gTAFTQka0DB"
      },
      "outputs": [
        {
          "name": "stderr",
          "output_type": "stream",
          "text": [
            "Downloading data: 100%|██████████| 1.97M/1.97M [00:00<00:00, 5.29MB/s]\n",
            "Downloading data files: 100%|██████████| 1/1 [00:00<00:00,  2.63it/s]\n",
            "Extracting data files: 100%|██████████| 1/1 [00:00<00:00, 466.45it/s]\n",
            "Generating train split: 9083 examples [00:00, 1076821.37 examples/s]\n"
          ]
        }
      ],
      "source": [
        "from datasets import load_dataset\n",
        "\n",
        "mydataset = load_dataset(\"snehangshuk/test-dataset\", split='train')"
      ]
    },
    {
      "cell_type": "code",
      "execution_count": 20,
      "metadata": {
        "colab": {
          "base_uri": "https://localhost:8080/"
        },
        "id": "jDLbGhk2aq_r",
        "outputId": "20e2bd1e-f376-474e-e7f1-ba499ed8f517"
      },
      "outputs": [
        {
          "data": {
            "text/plain": [
              "Dataset({\n",
              "    features: ['city', 'country', 'region', 'continent', 'latitude', 'longitude', 'x', 'y', 'z'],\n",
              "    num_rows: 9083\n",
              "})"
            ]
          },
          "execution_count": 20,
          "metadata": {},
          "output_type": "execute_result"
        }
      ],
      "source": [
        "mydataset"
      ]
    }
  ],
  "metadata": {
    "colab": {
      "provenance": []
    },
    "kernelspec": {
      "display_name": "Python 3",
      "name": "python3"
    },
    "language_info": {
      "codemirror_mode": {
        "name": "ipython",
        "version": 3
      },
      "file_extension": ".py",
      "mimetype": "text/x-python",
      "name": "python",
      "nbconvert_exporter": "python",
      "pygments_lexer": "ipython3",
      "version": "3.9.6"
    }
  },
  "nbformat": 4,
  "nbformat_minor": 0
}
